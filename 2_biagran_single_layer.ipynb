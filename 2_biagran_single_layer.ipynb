{
 "cells": [
  {
   "attachments": {},
   "cell_type": "markdown",
   "metadata": {},
   "source": [
    "# **Bigram Character Level Single Layer Neural Network Language Model**"
   ]
  },
  {
   "cell_type": "code",
   "execution_count": 47,
   "metadata": {},
   "outputs": [],
   "source": [
    "import torch\n",
    "import numpy as np\n",
    "import matplotlib.pyplot as plt"
   ]
  },
  {
   "cell_type": "code",
   "execution_count": 48,
   "metadata": {},
   "outputs": [],
   "source": [
    "# load dataset\n",
    "words = open('names.txt', 'r').read().splitlines()"
   ]
  },
  {
   "cell_type": "code",
   "execution_count": 49,
   "metadata": {},
   "outputs": [],
   "source": [
    "# create training set\n",
    "startToken = '<S>'\n",
    "endToken = '<E>'\n",
    "\n",
    "# create lookup table for converting characters to indices\n",
    "chars = sorted(list(set(''.join(words)))) # all unique characters in the dataset\n",
    "stoi = {s:i for i,s in enumerate(chars)} # string to index\n",
    "\n",
    "# manually enumerate start and end token since they are not visible in the dataset\n",
    "stoi[startToken] = len(stoi)\n",
    "stoi[endToken] = len(stoi)\n",
    "\n",
    "# index to string\n",
    "itos = {i:s for s,i in stoi.items()}"
   ]
  },
  {
   "attachments": {},
   "cell_type": "markdown",
   "metadata": {},
   "source": [
    "### Prepare the training set of bigrams"
   ]
  },
  {
   "cell_type": "code",
   "execution_count": 50,
   "metadata": {},
   "outputs": [
    {
     "name": "stdout",
     "output_type": "stream",
     "text": [
      "<S> e\n",
      "e m\n",
      "m m\n",
      "m a\n",
      "a <E>\n"
     ]
    }
   ],
   "source": [
    "xi, yi = [], [] # input and desired output/label/target\n",
    "\n",
    "for w in words[:1]: # for now lets test it on single word - it will be easier to spot what is going on\n",
    "    chs = [startToken] + list(w) + [endToken] # add start and end tokens\n",
    "    for ch1, ch2 in zip(chs, chs[1:]):\n",
    "        ix1 = stoi[ch1]\n",
    "        ix2 = stoi[ch2]\n",
    "        print(ch1, ch2)\n",
    "        xi.append(ix1) # when input is ch1...\n",
    "        yi.append(ix2) # ...output should be ch2\n",
    "        \n",
    "# convert to tensors (tourch.tensor.dtype - int64, torch.Tensor.dtype - float32)\n",
    "xi = torch.tensor(xi)\n",
    "yi = torch.tensor(yi)"
   ]
  },
  {
   "attachments": {},
   "cell_type": "markdown",
   "metadata": {},
   "source": [
    "### Encode integers with one-hot encoding\n",
    "Converting categorical data into binary vector where only one element is set to 1. This is useful for feeding categorical data to neural network.\n",
    "\n",
    "Example if we would like to encode fruits:\n",
    "- \"apple\" -> [1, 0, 0]\n",
    "- \"banana\" -> [0, 1, 0]\n",
    "- \"orange\" -> [0, 0, 1]\n",
    "\n",
    "And in our case this would be encoded character int value:\n",
    "- 'a', stoi['a'] -> 0 -> [1, 0, 0, 0, 0, 0, 0, 0, ... , 0] (size of vocabulary)\n",
    "- 'b', stoi['b'] -> 1 -> [0, 1, 0, 0, 0, 0, 0, 0, ... , 0] (size of vocabulary)"
   ]
  },
  {
   "cell_type": "code",
   "execution_count": 51,
   "metadata": {},
   "outputs": [
    {
     "name": "stdout",
     "output_type": "stream",
     "text": [
      "torch.Size([5, 28])\n",
      "torch.Size([5, 28])\n"
     ]
    }
   ],
   "source": [
    "import torch.nn.functional as F\n",
    "charsLen = len(stoi)\n",
    "\n",
    "xencoded = F.one_hot(xi, num_classes=charsLen).float()\n",
    "yencoded = F.one_hot(yi, num_classes=charsLen).float()\n",
    "\n",
    "# number of bigrams x size of encoded input/output\n",
    "print(xencoded.shape) \n",
    "print(yencoded.shape)"
   ]
  },
  {
   "attachments": {},
   "cell_type": "markdown",
   "metadata": {},
   "source": [
    "### Create single linear layer neural network\n",
    "Number of rows (input weights for one neuron) is equal to size of xencoded\n",
    "\n",
    "Number of columns (number of neurons, and outputs) is equal to size of yencoded"
   ]
  },
  {
   "cell_type": "code",
   "execution_count": 52,
   "metadata": {},
   "outputs": [
    {
     "data": {
      "text/plain": [
       "torch.Size([28, 28])"
      ]
     },
     "execution_count": 52,
     "metadata": {},
     "output_type": "execute_result"
    }
   ],
   "source": [
    "W = torch.randn((charsLen, charsLen))\n",
    "W.shape"
   ]
  },
  {
   "attachments": {},
   "cell_type": "markdown",
   "metadata": {},
   "source": [
    "### Remember rules of matrix multiplication:\n",
    "![matrix_multiplication](images/matrix_multiplication.PNG)"
   ]
  },
  {
   "cell_type": "code",
   "execution_count": 53,
   "metadata": {},
   "outputs": [
    {
     "data": {
      "text/plain": [
       "tensor([[-7.6271e-01, -1.0445e-02, -1.5583e-01, -1.9500e+00, -1.6943e+00,\n",
       "          2.8120e+00,  4.3569e-01, -2.5571e+00, -1.2642e+00, -3.5517e-01,\n",
       "         -4.3273e-01,  1.0934e+00,  1.1422e-01,  3.0823e-01,  8.6148e-01,\n",
       "         -1.2044e+00,  8.0391e-01, -2.2592e-01,  1.1639e-01, -4.7818e-01,\n",
       "         -1.0584e+00, -9.2038e-02,  6.9485e-01,  9.1054e-01,  1.0406e+00,\n",
       "         -9.6230e-01, -5.8145e-01,  1.1586e+00],\n",
       "        [-1.6538e+00,  1.2985e+00,  5.8596e-01,  3.7359e-01,  6.2001e-01,\n",
       "         -1.5428e-01,  5.1903e-02, -7.3793e-01,  4.7975e-01,  1.4058e+00,\n",
       "          8.7627e-01, -3.0079e-01,  5.9817e-01,  1.7975e-01, -1.0542e+00,\n",
       "         -6.2985e-01, -6.6983e-01,  7.8546e-02,  9.6573e-01,  7.8705e-01,\n",
       "          8.6666e-01,  1.6626e+00,  4.6011e-01, -1.3251e+00, -1.6571e-01,\n",
       "         -1.0720e+00, -5.8113e-01, -3.5771e-01],\n",
       "        [ 1.6672e+00,  8.3647e-01, -4.5756e-01,  7.7706e-01,  1.5186e+00,\n",
       "         -2.0150e+00,  2.6387e-01,  2.0414e+00,  2.1373e+00,  6.2534e-01,\n",
       "          2.3868e-01,  9.2141e-02,  1.7952e+00, -1.3730e+00,  1.3499e+00,\n",
       "         -6.5266e-02,  1.8213e-03, -1.8272e+00, -1.0823e+00,  1.2247e+00,\n",
       "         -1.0015e+00,  6.2023e-01, -1.3123e+00, -3.9783e-01,  2.0404e-01,\n",
       "         -9.2448e-01,  5.4477e-01,  1.4363e+00],\n",
       "        [ 1.6672e+00,  8.3647e-01, -4.5756e-01,  7.7706e-01,  1.5186e+00,\n",
       "         -2.0150e+00,  2.6387e-01,  2.0414e+00,  2.1373e+00,  6.2534e-01,\n",
       "          2.3868e-01,  9.2141e-02,  1.7952e+00, -1.3730e+00,  1.3499e+00,\n",
       "         -6.5266e-02,  1.8213e-03, -1.8272e+00, -1.0823e+00,  1.2247e+00,\n",
       "         -1.0015e+00,  6.2023e-01, -1.3123e+00, -3.9783e-01,  2.0404e-01,\n",
       "         -9.2448e-01,  5.4477e-01,  1.4363e+00],\n",
       "        [ 6.2213e-01, -1.7088e+00,  3.0575e-01, -1.5016e+00, -1.7486e+00,\n",
       "          1.0943e+00,  1.0097e+00, -2.1327e-01,  1.7829e-01,  5.7616e-01,\n",
       "          4.0157e-01,  1.0599e+00, -1.8371e+00, -1.0768e+00, -1.0158e+00,\n",
       "          3.1470e-01, -4.3694e-02, -1.4967e+00, -5.3378e-02, -3.4909e-02,\n",
       "          1.0672e+00,  9.2301e-01, -7.5894e-01, -1.5443e-01, -1.5482e-01,\n",
       "         -5.8025e-01,  6.4735e-01,  3.7911e-01]])"
      ]
     },
     "execution_count": 53,
     "metadata": {},
     "output_type": "execute_result"
    }
   ],
   "source": [
    "logits = xencoded @ W # in pararell perform matrix multiplication\n",
    "logits # log-counts, for every neuron we created what is firing rate for each of the input"
   ]
  },
  {
   "attachments": {},
   "cell_type": "markdown",
   "metadata": {},
   "source": [
    "### Given firing rate of each neuron for given input we can calculate probability distribution for next character in the sequence"
   ]
  },
  {
   "cell_type": "code",
   "execution_count": 54,
   "metadata": {},
   "outputs": [],
   "source": [
    "# lets get rid of negative numbers by exponentiating, and it will be somewhat equivalent to counts of occurence\n",
    "counts = torch.exp(logits)"
   ]
  },
  {
   "cell_type": "code",
   "execution_count": 55,
   "metadata": {},
   "outputs": [
    {
     "data": {
      "image/png": "[encoded data removed]",
      "text/plain": [
       "<Figure size 640x480 with 1 Axes>"
      ]
     },
     "metadata": {},
     "output_type": "display_data"
    }
   ],
   "source": [
    "# exponention yi = e^xi, for number x lower than 0 we will get number between 0 and 1\n",
    "x = np.linspace(-2, 2, 100)\n",
    "y = np.exp(x)\n",
    "plt.plot(x, y)\n",
    "plt.grid(True)\n",
    "plt.show()"
   ]
  },
  {
   "attachments": {},
   "cell_type": "markdown",
   "metadata": {},
   "source": [
    "### Now we can calculate probability distribution, since it is just normalized counts"
   ]
  },
  {
   "cell_type": "code",
   "execution_count": 56,
   "metadata": {},
   "outputs": [
    {
     "data": {
      "text/plain": [
       "tensor([[0.0097, 0.0206, 0.0178, 0.0030, 0.0038, 0.3457, 0.0321, 0.0016, 0.0059,\n",
       "         0.0146, 0.0135, 0.0620, 0.0233, 0.0283, 0.0492, 0.0062, 0.0464, 0.0166,\n",
       "         0.0233, 0.0129, 0.0072, 0.0189, 0.0416, 0.0516, 0.0588, 0.0079, 0.0116,\n",
       "         0.0662],\n",
       "        [0.0045, 0.0863, 0.0423, 0.0342, 0.0438, 0.0202, 0.0248, 0.0113, 0.0381,\n",
       "         0.0961, 0.0566, 0.0174, 0.0428, 0.0282, 0.0082, 0.0125, 0.0121, 0.0255,\n",
       "         0.0619, 0.0517, 0.0560, 0.1242, 0.0373, 0.0063, 0.0200, 0.0081, 0.0132,\n",
       "         0.0165],\n",
       "        [0.0834, 0.0363, 0.0100, 0.0342, 0.0719, 0.0021, 0.0205, 0.1212, 0.1334,\n",
       "         0.0294, 0.0200, 0.0173, 0.0948, 0.0040, 0.0607, 0.0147, 0.0158, 0.0025,\n",
       "         0.0053, 0.0536, 0.0058, 0.0293, 0.0042, 0.0106, 0.0193, 0.0062, 0.0271,\n",
       "         0.0662],\n",
       "        [0.0834, 0.0363, 0.0100, 0.0342, 0.0719, 0.0021, 0.0205, 0.1212, 0.1334,\n",
       "         0.0294, 0.0200, 0.0173, 0.0948, 0.0040, 0.0607, 0.0147, 0.0158, 0.0025,\n",
       "         0.0053, 0.0536, 0.0058, 0.0293, 0.0042, 0.0106, 0.0193, 0.0062, 0.0271,\n",
       "         0.0662],\n",
       "        [0.0539, 0.0052, 0.0393, 0.0064, 0.0050, 0.0864, 0.0794, 0.0234, 0.0346,\n",
       "         0.0515, 0.0432, 0.0835, 0.0046, 0.0099, 0.0105, 0.0396, 0.0277, 0.0065,\n",
       "         0.0274, 0.0279, 0.0841, 0.0728, 0.0135, 0.0248, 0.0248, 0.0162, 0.0553,\n",
       "         0.0423]])"
      ]
     },
     "execution_count": 56,
     "metadata": {},
     "output_type": "execute_result"
    }
   ],
   "source": [
    "probabilities = counts / counts.sum(axis=1, keepdims=True)\n",
    "probabilities"
   ]
  },
  {
   "attachments": {},
   "cell_type": "markdown",
   "metadata": {},
   "source": [
    "### Above output calculations with exponential function and normalization is called softmax function witch we can put after linear layer to get probability distribution\n",
    "\n",
    "![softmax](images/softmax.PNG)"
   ]
  },
  {
   "attachments": {},
   "cell_type": "markdown",
   "metadata": {},
   "source": [
    "### Loss function\n",
    "I will use average negative log likelihood like in bigram.ipynb\n",
    "\n",
    "The reason behind it is mostly convenience since probabilities are very small numbers and multiplying them together will result in very small number. To avoid this we can use log function and convert multiplication to addition. Also we can use negative log to find minimum instead of maximum. And finally we can use average to make it independent of number of samples."
   ]
  },
  {
   "cell_type": "code",
   "execution_count": 57,
   "metadata": {},
   "outputs": [],
   "source": [
    "# number of rows which corresponds to number of bigrams in our word\n",
    "bigramSize = probabilities.size(0) # same as yencoded.shape[0]\n"
   ]
  },
  {
   "cell_type": "code",
   "execution_count": 68,
   "metadata": {},
   "outputs": [
    {
     "name": "stdout",
     "output_type": "stream",
     "text": [
      "Bigram example: <S>e\n",
      "Input to neural net (before encoding): <S>\n",
      "Desired output / label (before encoding): e\n",
      "Probability of desired output: 0.003815497038885951\n",
      "Negative log likelihood (lower-better): 5.568684101104736\n",
      "--------------------------------------------------------\n",
      "Bigram example: em\n",
      "Input to neural net (before encoding): e\n",
      "Desired output / label (before encoding): m\n",
      "Probability of desired output: 0.04284282401204109\n",
      "Negative log likelihood (lower-better): 3.150217056274414\n",
      "--------------------------------------------------------\n",
      "Bigram example: mm\n",
      "Input to neural net (before encoding): m\n",
      "Desired output / label (before encoding): m\n",
      "Probability of desired output: 0.09478394687175751\n",
      "Negative log likelihood (lower-better): 2.3561551570892334\n",
      "--------------------------------------------------------\n",
      "Bigram example: ma\n",
      "Input to neural net (before encoding): m\n",
      "Desired output / label (before encoding): a\n",
      "Probability of desired output: 0.08339779824018478\n",
      "Negative log likelihood (lower-better): 2.484133243560791\n",
      "--------------------------------------------------------\n",
      "Bigram example: a<E>\n",
      "Input to neural net (before encoding): a\n",
      "Desired output / label (before encoding): <E>\n",
      "Probability of desired output: 0.042277973145246506\n",
      "Negative log likelihood (lower-better): 3.1634891033172607\n",
      "--------------------------------------------------------\n",
      "Average negative log likelihood (overall quality of neural network, lower-better): 3.3445358276367188\n"
     ]
    }
   ],
   "source": [
    "# negative log likelihoods\n",
    "nlls = torch.zeros(bigramSize)\n",
    "\n",
    "for i in range(bigramSize):\n",
    "    x = xi[i].item() # input character index\n",
    "    y = yi[i].item() # desired output character index / label\n",
    "    print(f'Bigram example: {itos[x]}{itos[y]}')\n",
    "    print(f'Input to neural net (before encoding): {itos[x]}')\n",
    "    print(f'Desired output / label (before encoding): {itos[y]}')\n",
    "    probabilityOfDesiredOutput = probabilities[i, y]\n",
    "    print(f'Probability of desired output: {probabilityOfDesiredOutput}')\n",
    "    nll = -torch.log(probabilityOfDesiredOutput)\n",
    "    print(f'Negative log likelihood (lower-better): {nll}')\n",
    "    print(\"--------------------------------------------------------\")\n",
    "    nlls[i] = nll\n",
    "    \n",
    "avgnll = nlls.mean()\n",
    "print(f'Average negative log likelihood (overall quality of neural network, lower-better): {avgnll}')"
   ]
  },
  {
   "cell_type": "code",
   "execution_count": null,
   "metadata": {},
   "outputs": [],
   "source": []
  }
 ],
 "metadata": {
  "kernelspec": {
   "display_name": "Python 3",
   "language": "python",
   "name": "python3"
  },
  "language_info": {
   "codemirror_mode": {
    "name": "ipython",
    "version": 3
   },
   "file_extension": ".py",
   "mimetype": "text/x-python",
   "name": "python",
   "nbconvert_exporter": "python",
   "pygments_lexer": "ipython3",
   "version": "3.10.11"
  },
  "orig_nbformat": 4
 },
 "nbformat": 4,
 "nbformat_minor": 2
}
