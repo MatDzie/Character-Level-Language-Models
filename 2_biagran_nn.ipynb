{
 "cells": [
  {
   "attachments": {},
   "cell_type": "markdown",
   "metadata": {},
   "source": [
    "# **Bigram Character Level Neural Network Language Model**"
   ]
  },
  {
   "cell_type": "code",
   "execution_count": 43,
   "metadata": {},
   "outputs": [],
   "source": [
    "import torch\n",
    "import numpy as np\n",
    "import matplotlib.pyplot as plt"
   ]
  },
  {
   "cell_type": "code",
   "execution_count": 44,
   "metadata": {},
   "outputs": [],
   "source": [
    "# load dataset\n",
    "words = open('names.txt', 'r').read().splitlines()"
   ]
  },
  {
   "cell_type": "code",
   "execution_count": 45,
   "metadata": {},
   "outputs": [],
   "source": [
    "# create training set\n",
    "startToken = '<S>'\n",
    "endToken = '<E>'\n",
    "\n",
    "# create lookup table for converting characters to indices\n",
    "chars = sorted(list(set(''.join(words)))) # all unique characters in the dataset\n",
    "stoi = {s:i for i,s in enumerate(chars)} # string to index\n",
    "\n",
    "# manually enumerate start and end token since they are not visible in the dataset\n",
    "stoi[startToken] = len(stoi)\n",
    "stoi[endToken] = len(stoi)\n",
    "\n",
    "# index to string\n",
    "itos = {i:s for s,i in stoi.items()}"
   ]
  },
  {
   "attachments": {},
   "cell_type": "markdown",
   "metadata": {},
   "source": [
    "### Prepare the training set of bigrams"
   ]
  },
  {
   "cell_type": "code",
   "execution_count": 46,
   "metadata": {},
   "outputs": [],
   "source": [
    "xs, ys = [], [] # input and desired output/label/target\n",
    "\n",
    "for w in words[:1]:\n",
    "    chs = [startToken] + list(w) + [endToken] # add start and end tokens\n",
    "    for ch1, ch2 in zip (chs, chs[1:]):\n",
    "        ix1 = stoi[ch1]\n",
    "        ix2 = stoi[ch2]\n",
    "        xs.append(ix1) # when input is ch1...\n",
    "        ys.append(ix2) # ...output should be ch2\n",
    "        \n",
    "# convert to tensors (tourch.tensor.dtype - int64, torch.Tensor.dtype - float32)\n",
    "xs = torch.tensor(xs)\n",
    "ys = torch.tensor(ys)"
   ]
  },
  {
   "attachments": {},
   "cell_type": "markdown",
   "metadata": {},
   "source": [
    "### Encode integers with one hot encoding\n",
    "Converting categorical data into binary vector where only one element is set to 1. This is useful for feeding categorical data to neural network.\n",
    "\n",
    "Example if we would like to encode fruits:\n",
    "- \"apple\" -> [1, 0, 0]\n",
    "- \"banana\" -> [0, 1, 0]\n",
    "- \"orange\" -> [0, 0, 1]"
   ]
  },
  {
   "cell_type": "code",
   "execution_count": 47,
   "metadata": {},
   "outputs": [],
   "source": [
    "import torch.nn.functional as F\n",
    "xencoded = F.one_hot(xs, num_classes=len(stoi)).float()\n",
    "yencoded = F.one_hot(ys, num_classes=len(stoi)).float()"
   ]
  },
  {
   "attachments": {},
   "cell_type": "markdown",
   "metadata": {},
   "source": [
    "### Create first layer of the network"
   ]
  },
  {
   "cell_type": "code",
   "execution_count": 48,
   "metadata": {},
   "outputs": [],
   "source": [
    "# weights, filled with random values drawn from a normal distribution\n",
    "W = torch.randn((len(stoi), 1))"
   ]
  },
  {
   "cell_type": "code",
   "execution_count": 52,
   "metadata": {},
   "outputs": [
    {
     "name": "stdout",
     "output_type": "stream",
     "text": [
      "torch.Size([5, 28])\n",
      "torch.Size([28, 1])\n"
     ]
    }
   ],
   "source": [
    "print(xencoded.shape)\n",
    "print(W.shape)"
   ]
  },
  {
   "attachments": {},
   "cell_type": "markdown",
   "metadata": {},
   "source": [
    "## Remember rules of matrix multiplication:\n",
    "**A (m x n) * B (n x p) = C (m x p)**\n",
    "\n",
    "**C[i][j] = sum(A[i][k] * B[k][j]) for k = 1 to n**"
   ]
  },
  {
   "cell_type": "code",
   "execution_count": null,
   "metadata": {},
   "outputs": [],
   "source": []
  }
 ],
 "metadata": {
  "kernelspec": {
   "display_name": "Python 3",
   "language": "python",
   "name": "python3"
  },
  "language_info": {
   "codemirror_mode": {
    "name": "ipython",
    "version": 3
   },
   "file_extension": ".py",
   "mimetype": "text/x-python",
   "name": "python",
   "nbconvert_exporter": "python",
   "pygments_lexer": "ipython3",
   "version": "3.10.11"
  },
  "orig_nbformat": 4
 },
 "nbformat": 4,
 "nbformat_minor": 2
}
