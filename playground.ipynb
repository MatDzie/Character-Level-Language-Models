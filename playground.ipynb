{
 "cells": [
  {
   "attachments": {},
   "cell_type": "markdown",
   "metadata": {},
   "source": [
    "# **Character Level Language Models Playground**"
   ]
  },
  {
   "cell_type": "code",
   "execution_count": 17,
   "metadata": {},
   "outputs": [],
   "source": [
    "# load dataset\n",
    "words = open('names.txt', 'r').read().splitlines()"
   ]
  },
  {
   "cell_type": "code",
   "execution_count": 18,
   "metadata": {},
   "outputs": [
    {
     "name": "stdout",
     "output_type": "stream",
     "text": [
      "Word count: 32033\n",
      "Shortest word length: 2\n",
      "Longest word length: 15\n",
      "Average word length: 6\n"
     ]
    }
   ],
   "source": [
    "# dataset info\n",
    "print(f\"Word count: {len(words)}\")\n",
    "print(f\"Shortest word length: {min([len(w) for w in words])}\")\n",
    "print(f\"Longest word length: {max([len(w) for w in words])}\")\n",
    "print(f\"Average word length: {round(sum([len(w) for w in words]) / len(words))}\")"
   ]
  },
  {
   "attachments": {},
   "cell_type": "markdown",
   "metadata": {},
   "source": [
    "## Bigram"
   ]
  },
  {
   "attachments": {},
   "cell_type": "markdown",
   "metadata": {},
   "source": [
    "Create bigrams of characters from input text and store them in dictionary with counts."
   ]
  },
  {
   "cell_type": "code",
   "execution_count": 19,
   "metadata": {},
   "outputs": [],
   "source": [
    "bigramsDict = {}\n",
    "for w in words:\n",
    "    chs = ['<S>'] + list(w) + ['<E>'] # add start and end tokens\n",
    "    for ch1, ch2 in zip (chs, chs[1:]):\n",
    "        bigram = (ch1, ch2)\n",
    "        bigramsDict[bigram] = bigramsDict.get(bigram, 0) + 1"
   ]
  },
  {
   "cell_type": "code",
   "execution_count": 20,
   "metadata": {},
   "outputs": [
    {
     "data": {
      "text/plain": [
       "[(('n', '<E>'), 6763),\n",
       " (('a', '<E>'), 6640),\n",
       " (('a', 'n'), 5438),\n",
       " (('<S>', 'a'), 4410),\n",
       " (('e', '<E>'), 3983),\n",
       " (('a', 'r'), 3264),\n",
       " (('e', 'l'), 3248),\n",
       " (('r', 'i'), 3033),\n",
       " (('n', 'a'), 2977),\n",
       " (('<S>', 'k'), 2963)]"
      ]
     },
     "execution_count": 20,
     "metadata": {},
     "output_type": "execute_result"
    }
   ],
   "source": [
    "# 10 most common bigrams\n",
    "sorted(bigramsDict.items(), key=lambda keyValue: keyValue[1], reverse=True)[:10]"
   ]
  },
  {
   "attachments": {},
   "cell_type": "markdown",
   "metadata": {},
   "source": [
    "To be more convinient we will keep bigrams in two dimensional array with first dimension being the first character and second dimension being the second character, and the value being how often the second character follows the first one."
   ]
  }
 ],
 "metadata": {
  "kernelspec": {
   "display_name": "Python 3",
   "language": "python",
   "name": "python3"
  },
  "language_info": {
   "codemirror_mode": {
    "name": "ipython",
    "version": 3
   },
   "file_extension": ".py",
   "mimetype": "text/x-python",
   "name": "python",
   "nbconvert_exporter": "python",
   "pygments_lexer": "ipython3",
   "version": "3.10.11"
  },
  "orig_nbformat": 4
 },
 "nbformat": 4,
 "nbformat_minor": 2
}
